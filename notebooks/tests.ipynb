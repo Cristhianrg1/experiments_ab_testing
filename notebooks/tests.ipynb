{
 "cells": [
  {
   "cell_type": "code",
   "execution_count": 1,
   "metadata": {},
   "outputs": [],
   "source": [
    "import os\n",
    "import sys\n",
    "\n",
    "if \"ORIGINAL_WORKING_DIRECTORY\" not in globals():\n",
    "    ORIGINAL_WORKING_DIRECTORY = os.getcwd()\n",
    "\n",
    "parent_directory = os.path.dirname(ORIGINAL_WORKING_DIRECTORY)\n",
    "os.chdir(parent_directory)\n",
    "sys.path.insert(0, os.getcwd())\n",
    "\n",
    "import pandas as pd\n",
    "import numpy as np\n",
    "from pandasql import sqldf\n",
    "from  datetime import datetime\n",
    "from modules.data_processing.data_processor import ExperimentProcessor\n",
    "from modules.data_processing.sequential_data_processor import SequentialExperimentProcessor\n",
    "from modules.data_processing.data_loader import get_all_data"
   ]
  },
  {
   "cell_type": "code",
   "execution_count": 2,
   "metadata": {},
   "outputs": [],
   "source": [
    "data = get_all_data()"
   ]
  },
  {
   "cell_type": "code",
   "execution_count": 3,
   "metadata": {},
   "outputs": [],
   "source": [
    "processor  = SequentialExperimentProcessor(data)"
   ]
  },
  {
   "cell_type": "code",
   "execution_count": 4,
   "metadata": {},
   "outputs": [],
   "source": [
    "processed = processor.merge_purchase_data()"
   ]
  },
  {
   "cell_type": "code",
   "execution_count": 5,
   "metadata": {},
   "outputs": [
    {
     "data": {
      "text/plain": [
       "4693"
      ]
     },
     "execution_count": 5,
     "metadata": {},
     "output_type": "execute_result"
    }
   ],
   "source": [
    "len(processed[processed[\"with_purchase\"]])"
   ]
  },
  {
   "cell_type": "code",
   "execution_count": 6,
   "metadata": {},
   "outputs": [
    {
     "data": {
      "text/plain": [
       "16191"
      ]
     },
     "execution_count": 6,
     "metadata": {},
     "output_type": "execute_result"
    }
   ],
   "source": [
    "prcessed_data = processor.labeled_experiments()"
   ]
  },
  {
   "cell_type": "code",
   "execution_count": 7,
   "metadata": {},
   "outputs": [
    {
     "data": {
      "text/plain": [
       "event_name\n",
       "CHECKOUT_1    0.672008\n",
       "CHECKOUT_2    0.785714\n",
       "CHECKOUT_3    0.969543\n",
       "PRODUCT       0.085445\n",
       "SEARCH        0.072977\n",
       "Name: with_purchase, dtype: float64"
      ]
     },
     "execution_count": 7,
     "metadata": {},
     "output_type": "execute_result"
    }
   ],
   "source": [
    "prcessed_data.groupby(\"event_name\")[\"with_purchase\"].mean()"
   ]
  },
  {
   "cell_type": "markdown",
   "metadata": {},
   "source": [
    "### API"
   ]
  },
  {
   "cell_type": "code",
   "execution_count": null,
   "metadata": {},
   "outputs": [],
   "source": [
    "import requests\n",
    "from urllib.parse import quote\n",
    "\n",
    "experiment_id = \"filters/sort-by-ranking\"\n",
    "day = \"2021-08-02 00\"\n",
    "\n",
    "\n",
    "encoded_experiment_id = quote(experiment_id, safe='')\n",
    "\n",
    "url = f\"http://127.0.0.1:5001/experiment/{encoded_experiment_id}/result\"\n",
    "print(f\"Request URL: {url}\")\n",
    "\n",
    "params = {\n",
    "    \"day\": day\n",
    "}\n",
    "\n",
    "response = requests.get(url, params=params)\n",
    "\n",
    "print(f\"Response Status Code: {response.status_code}\")\n",
    "print(f\"Response Content: {response.text}\")\n",
    "\n",
    "try:\n",
    "    response.raise_for_status()\n",
    "    print(\"API Response:\")\n",
    "    print(data)\n",
    "except requests.exceptions.HTTPError as errh:\n",
    "    print(\"Http Error:\", errh)\n",
    "except requests.exceptions.ConnectionError as errc:\n",
    "    print(\"Error Connecting:\", errc)\n",
    "except requests.exceptions.Timeout as errt:\n",
    "    print(\"Timeout Error:\", errt)\n",
    "except requests.exceptions.RequestException as err:\n",
    "    print(\"OOps: Something Else\", err)\n",
    "except ValueError as err:\n",
    "    print(\"Error decoding JSON:\", err)"
   ]
  },
  {
   "cell_type": "code",
   "execution_count": 1,
   "metadata": {},
   "outputs": [
    {
     "data": {
      "text/plain": [
       "{'results': {'filters/sort-by-ranking': {'checks': {'experiment_independence': True,\n",
       "    'num_of_variants': 3,\n",
       "    'sample_size_adequacy': {'6971': True, '6972': True, '7057': True},\n",
       "    'user_independence': False,\n",
       "    'variations': {'6971': 0.07464576279639223,\n",
       "     '6972': 0.08194695143216933,\n",
       "     '7057': 0.07025933159722221}},\n",
       "   'number_of_participants': 5629,\n",
       "   'statistical_tests': {'anova': {'f_value': 1.2745965408675217,\n",
       "     'p_value': 0.279622086493317},\n",
       "    'chi_square': {'chi2': 2.549391302369261,\n",
       "     'p_value': 0.2795160256484701,\n",
       "     'significant_difference': False},\n",
       "    'pairwise_comparisons': [{'effect': 0.008810455506561288,\n",
       "      'p_value': 0.32720224629450056,\n",
       "      'variant1': '6971',\n",
       "      'variant2': '6972'},\n",
       "     {'effect': -0.005205139669562264,\n",
       "      'p_value': 0.5472481987276758,\n",
       "      'variant1': '6971',\n",
       "      'variant2': '7057'},\n",
       "     {'effect': -0.014015595176123552,\n",
       "      'p_value': 0.11557914053852647,\n",
       "      'variant1': '6972',\n",
       "      'variant2': '7057'}],\n",
       "    'tukey_hsd': [['6971', '6972', 0.0088, 0.5786, -0.0119, 0.0295, False],\n",
       "     ['6971', '7057', -0.0052, 0.826, -0.0259, 0.0155, False],\n",
       "     ['6972', '7057', -0.014, 0.2548, -0.0348, 0.0068, False]],\n",
       "    'variant_results': {'6971': {'ci': [0.06914207211114115,\n",
       "       0.0933515405613167],\n",
       "      'conversions': 159,\n",
       "      'n': 1957,\n",
       "      'prop': 0.08124680633622892},\n",
       "     '6972': {'ci': [0.07725605811132244, 0.10285846557425798],\n",
       "      'conversions': 173,\n",
       "      'n': 1921,\n",
       "      'prop': 0.09005726184279021},\n",
       "     '7057': {'ci': [0.06418535837081141, 0.08789797496252191],\n",
       "      'conversions': 146,\n",
       "      'n': 1920,\n",
       "      'prop': 0.07604166666666666}}},\n",
       "   'variants': [{'id': '6971', 'number_of_purchases': 159},\n",
       "    {'id': '6972', 'number_of_purchases': 173},\n",
       "    {'id': '7057', 'number_of_purchases': 146}],\n",
       "   'winner': '6972'}}}"
      ]
     },
     "execution_count": 1,
     "metadata": {},
     "output_type": "execute_result"
    }
   ],
   "source": [
    "import requests\n",
    "from urllib.parse import quote\n",
    "\n",
    "experiment_id = \"filters/sort-by-ranking\"\n",
    "day = \"2021-08-02 00\"\n",
    "encoded_experiment_id = quote(experiment_id, safe='')\n",
    "url = f\"http://127.0.0.1:5001/experiment/{encoded_experiment_id}/result\"\n",
    "params = {\n",
    "    \"day\": day\n",
    "}\n",
    "\n",
    "response = requests.get(url, params=params)\n",
    "response.json()"
   ]
  }
 ],
 "metadata": {
  "kernelspec": {
   "display_name": "ab_testing_challenge-9LIbeZyo",
   "language": "python",
   "name": "python3"
  },
  "language_info": {
   "codemirror_mode": {
    "name": "ipython",
    "version": 3
   },
   "file_extension": ".py",
   "mimetype": "text/x-python",
   "name": "python",
   "nbconvert_exporter": "python",
   "pygments_lexer": "ipython3",
   "version": "3.9.13"
  }
 },
 "nbformat": 4,
 "nbformat_minor": 2
}
