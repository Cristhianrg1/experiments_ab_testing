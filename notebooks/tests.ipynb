{
 "cells": [
  {
   "cell_type": "code",
   "execution_count": 7,
   "metadata": {},
   "outputs": [],
   "source": [
    "import os\n",
    "import sys\n",
    "\n",
    "if \"ORIGINAL_WORKING_DIRECTORY\" not in globals():\n",
    "    ORIGINAL_WORKING_DIRECTORY = os.getcwd()\n",
    "\n",
    "parent_directory = os.path.dirname(ORIGINAL_WORKING_DIRECTORY)\n",
    "os.chdir(parent_directory)\n",
    "sys.path.insert(0, os.getcwd())\n",
    "\n",
    "import pandas as pd\n",
    "import numpy as np\n",
    "from pandasql import sqldf\n",
    "from  datetime import datetime\n",
    "from modules.data_processing.data_processor import ExperimentProcessor\n",
    "from modules.data_processing.sequential_data_processor import SequentialExperimentProcessor\n",
    "from modules.data_processing.data_loader import get_all_data"
   ]
  },
  {
   "cell_type": "code",
   "execution_count": 2,
   "metadata": {},
   "outputs": [],
   "source": [
    "data = get_all_data()"
   ]
  },
  {
   "cell_type": "code",
   "execution_count": 3,
   "metadata": {},
   "outputs": [],
   "source": [
    "processor  = SequentialExperimentProcessor(data)"
   ]
  },
  {
   "cell_type": "code",
   "execution_count": 4,
   "metadata": {},
   "outputs": [],
   "source": [
    "processed = processor.merge_purchase_data()"
   ]
  },
  {
   "cell_type": "code",
   "execution_count": 5,
   "metadata": {},
   "outputs": [
    {
     "data": {
      "text/plain": [
       "4693"
      ]
     },
     "execution_count": 5,
     "metadata": {},
     "output_type": "execute_result"
    }
   ],
   "source": [
    "len(processed[processed[\"with_purchase\"]])"
   ]
  },
  {
   "cell_type": "code",
   "execution_count": 6,
   "metadata": {},
   "outputs": [
    {
     "data": {
      "text/plain": [
       "16191"
      ]
     },
     "execution_count": 6,
     "metadata": {},
     "output_type": "execute_result"
    }
   ],
   "source": [
    "prcessed_data = processor.labeled_experiments()"
   ]
  },
  {
   "cell_type": "code",
   "execution_count": 7,
   "metadata": {},
   "outputs": [
    {
     "data": {
      "text/plain": [
       "event_name\n",
       "CHECKOUT_1    0.672008\n",
       "CHECKOUT_2    0.785714\n",
       "CHECKOUT_3    0.969543\n",
       "PRODUCT       0.085445\n",
       "SEARCH        0.072977\n",
       "Name: with_purchase, dtype: float64"
      ]
     },
     "execution_count": 7,
     "metadata": {},
     "output_type": "execute_result"
    }
   ],
   "source": [
    "prcessed_data.groupby(\"event_name\")[\"with_purchase\"].mean()"
   ]
  },
  {
   "cell_type": "markdown",
   "metadata": {},
   "source": [
    "### API"
   ]
  },
  {
   "cell_type": "code",
   "execution_count": null,
   "metadata": {},
   "outputs": [],
   "source": [
    "import requests\n",
    "from urllib.parse import quote\n",
    "\n",
    "experiment_id = \"filters/sort-by-ranking\"\n",
    "day = \"2021-08-02 00\"\n",
    "\n",
    "\n",
    "encoded_experiment_id = quote(experiment_id, safe='')\n",
    "\n",
    "url = f\"http://127.0.0.1:8080/experiment/{encoded_experiment_id}/result\"\n",
    "print(f\"Request URL: {url}\")\n",
    "\n",
    "params = {\n",
    "    \"day\": day\n",
    "}\n",
    "\n",
    "response = requests.get(url, params=params)\n",
    "\n",
    "print(f\"Response Status Code: {response.status_code}\")\n",
    "print(f\"Response Content: {response.text}\")\n",
    "\n",
    "try:\n",
    "    response.raise_for_status()\n",
    "    print(\"API Response:\")\n",
    "    print(data)\n",
    "except requests.exceptions.HTTPError as errh:\n",
    "    print(\"Http Error:\", errh)\n",
    "except requests.exceptions.ConnectionError as errc:\n",
    "    print(\"Error Connecting:\", errc)\n",
    "except requests.exceptions.Timeout as errt:\n",
    "    print(\"Timeout Error:\", errt)\n",
    "except requests.exceptions.RequestException as err:\n",
    "    print(\"OOps: Something Else\", err)\n",
    "except ValueError as err:\n",
    "    print(\"Error decoding JSON:\", err)"
   ]
  },
  {
   "cell_type": "code",
   "execution_count": 13,
   "metadata": {},
   "outputs": [
    {
     "data": {
      "text/plain": [
       "{'results': {'filters/sort-by-ranking': {'checks': {'experiment_independence': True,\n",
       "    'normal_approximation': True,\n",
       "    'num_of_variants': 3,\n",
       "    'sample_size_adequacy': {'6971': True, '6972': True, '7057': True},\n",
       "    'user_independence': False},\n",
       "   'number_of_participants': 5629,\n",
       "   'statistical_tests': {'chi_square': {'chi2': 2.549391302369261,\n",
       "     'p_value': 0.2795160256484701,\n",
       "     'significant_difference': False}},\n",
       "   'variants': [{'id': '6971', 'number_of_purchases': 159},\n",
       "    {'id': '6972', 'number_of_purchases': 173},\n",
       "    {'id': '7057', 'number_of_purchases': 146}],\n",
       "   'winner': '6972'}}}"
      ]
     },
     "execution_count": 13,
     "metadata": {},
     "output_type": "execute_result"
    }
   ],
   "source": [
    "import requests\n",
    "from urllib.parse import quote\n",
    "\n",
    "experiment_id = \"filters/sort-by-ranking\"\n",
    "day = \"2021-08-02 00\"\n",
    "encoded_experiment_id = quote(experiment_id, safe='')\n",
    "url = f\"http://127.0.0.1:8080/experiment/{encoded_experiment_id}/result\"\n",
    "params = {\n",
    "    \"day\": day\n",
    "}\n",
    "\n",
    "response = requests.get(url, params=params)\n",
    "response.json()"
   ]
  },
  {
   "cell_type": "code",
   "execution_count": 12,
   "metadata": {},
   "outputs": [
    {
     "data": {
      "text/plain": [
       "{'results': {'filters/sort-by-ranking': {'checks': {'experiment_independence': True,\n",
       "    'normal_approximation': True,\n",
       "    'num_of_variants': 3,\n",
       "    'sample_size_adequacy': {'6971': True, '6972': True, '7057': True},\n",
       "    'user_independence': False},\n",
       "   'number_of_participants': 5629,\n",
       "   'statistical_tests': {'chi_square': {'chi2': 2.549391302369261,\n",
       "     'p_value': 0.27951602564847017,\n",
       "     'significant_difference': False}},\n",
       "   'variants': [{'id': '6971', 'number_of_purchases': 159},\n",
       "    {'id': '6972', 'number_of_purchases': 173},\n",
       "    {'id': '7057', 'number_of_purchases': 146}],\n",
       "   'winner': '6972'}}}"
      ]
     },
     "execution_count": 12,
     "metadata": {},
     "output_type": "execute_result"
    }
   ],
   "source": [
    "import os\n",
    "import requests\n",
    "from urllib.parse import quote\n",
    "\n",
    "from google.auth.transport.requests import Request\n",
    "from google.oauth2 import service_account\n",
    "\n",
    "SERVICE_ACCOUNT_FILE = os.getenv(\"GOOGLE_APPLICATION_CREDENTIALS\")\n",
    "URL = 'https://ab-test-api-gfeygdcx7a-uc.a.run.app'\n",
    "\n",
    "credentials = service_account.IDTokenCredentials.from_service_account_file(\n",
    "    SERVICE_ACCOUNT_FILE,\n",
    "    target_audience=URL\n",
    ")\n",
    "credentials.refresh(Request())\n",
    "token = credentials.token\n",
    "\n",
    "experiment_id = \"filters/sort-by-ranking\"\n",
    "day = \"2021-08-02 00\"\n",
    "encoded_experiment_id = quote(experiment_id, safe='')\n",
    "headers = {\"Authorization\": f\"Bearer {token}\"}\n",
    "url = f\"https://ab-test-api-gfeygdcx7a-uc.a.run.app/experiment/{encoded_experiment_id}/result\"\n",
    "params = {\n",
    "    \"day\": day\n",
    "}\n",
    "\n",
    "response = requests.get(url, params=params, headers=headers)\n",
    "response.json()"
   ]
  }
 ],
 "metadata": {
  "kernelspec": {
   "display_name": "ab_testing_challenge-9LIbeZyo",
   "language": "python",
   "name": "python3"
  },
  "language_info": {
   "codemirror_mode": {
    "name": "ipython",
    "version": 3
   },
   "file_extension": ".py",
   "mimetype": "text/x-python",
   "name": "python",
   "nbconvert_exporter": "python",
   "pygments_lexer": "ipython3",
   "version": "3.9.13"
  }
 },
 "nbformat": 4,
 "nbformat_minor": 2
}
