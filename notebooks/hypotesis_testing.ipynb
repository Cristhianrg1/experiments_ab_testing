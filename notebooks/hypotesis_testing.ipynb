{
 "cells": [
  {
   "cell_type": "code",
   "execution_count": 1,
   "metadata": {},
   "outputs": [],
   "source": [
    "import os\n",
    "import sys\n",
    "\n",
    "if \"ORIGINAL_WORKING_DIRECTORY\" not in globals():\n",
    "    ORIGINAL_WORKING_DIRECTORY = os.getcwd()\n",
    "\n",
    "parent_directory = os.path.dirname(ORIGINAL_WORKING_DIRECTORY)\n",
    "os.chdir(parent_directory)\n",
    "sys.path.insert(0, os.getcwd())\n",
    "\n",
    "import pandas as pd\n",
    "from pandasql import sqldf\n",
    "from modules.data_processing.data_processor import ExperimentProcessor"
   ]
  }
 ],
 "metadata": {
  "kernelspec": {
   "display_name": "ab_testing_challenge-9LIbeZyo",
   "language": "python",
   "name": "python3"
  },
  "language_info": {
   "codemirror_mode": {
    "name": "ipython",
    "version": 3
   },
   "file_extension": ".py",
   "mimetype": "text/x-python",
   "name": "python",
   "nbconvert_exporter": "python",
   "pygments_lexer": "ipython3",
   "version": "3.9.13"
  }
 },
 "nbformat": 4,
 "nbformat_minor": 2
}
