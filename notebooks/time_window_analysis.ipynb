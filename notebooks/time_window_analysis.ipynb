{
 "cells": [
  {
   "cell_type": "code",
   "execution_count": null,
   "metadata": {},
   "outputs": [],
   "source": [
    "import os\n",
    "import sys\n",
    "\n",
    "if \"ORIGINAL_WORKING_DIRECTORY\" not in globals():\n",
    "    ORIGINAL_WORKING_DIRECTORY = os.getcwd()\n",
    "\n",
    "current_directory = os.getcwd()\n",
    "parent_directory = os.path.dirname(current_directory)\n",
    "os.chdir(parent_directory)\n",
    "sys.path.insert(0, os.getcwd())\n",
    "\n",
    "import pandas as pd\n",
    "from modules.data_processor import ExperimentProcessor"
   ]
  }
 ],
 "metadata": {
  "language_info": {
   "name": "python"
  }
 },
 "nbformat": 4,
 "nbformat_minor": 2
}
